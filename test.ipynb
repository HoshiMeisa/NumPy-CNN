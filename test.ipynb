{
 "cells": [
  {
   "cell_type": "code",
   "execution_count": 32,
   "outputs": [
    {
     "name": "stdout",
     "output_type": "stream",
     "text": [
      "[[-1.83642108 -1.32303485  0.89231883  1.74174622]\n",
      " [-0.65090629  2.87800934 -1.27534478 -1.47584017]\n",
      " [ 0.42666305 -0.18934454 -0.96991195 -2.81650455]]\n",
      "---------------------\n",
      "[[-1.83642108 -1.32303485  0.89231883  1.74174622]\n",
      " [-0.65090629  2.87800934 -1.27534478 -1.47584017]\n",
      " [ 0.42666305 -0.18934454 -0.96991195 -2.81650455]]\n",
      "[[-1.83642108 -1.32303485  0.89231883  1.74174622]\n",
      " [-0.65090629  2.87800934 -1.27534478 -1.47584017]\n",
      " [ 0.42666305 -0.18934454 -0.96991195 -2.81650455]]\n",
      "[[ True  True  True  True]\n",
      " [ True  True  True  True]\n",
      " [ True  True  True  True]]\n"
     ]
    }
   ],
   "source": [
    "import numpy as np\n",
    "\n",
    "a = np.random.randn(2, 3, 4)\n",
    "\n",
    "b = np.sum(a, axis=0)\n",
    "\n",
    "c = np.einsum('i...->...', a)\n",
    "\n",
    "print(b)\n",
    "print(\"---------------------\")\n",
    "print(c)\n",
    "print(c)\n",
    "print(b==c)"
   ],
   "metadata": {
    "collapsed": false
   }
  }
 ],
 "metadata": {
  "kernelspec": {
   "display_name": "Python 3",
   "language": "python",
   "name": "python3"
  },
  "language_info": {
   "codemirror_mode": {
    "name": "ipython",
    "version": 2
   },
   "file_extension": ".py",
   "mimetype": "text/x-python",
   "name": "python",
   "nbconvert_exporter": "python",
   "pygments_lexer": "ipython2",
   "version": "2.7.6"
  }
 },
 "nbformat": 4,
 "nbformat_minor": 0
}
