{
 "cells": [
  {
   "cell_type": "code",
   "execution_count": 9,
   "outputs": [
    {
     "name": "stdout",
     "output_type": "stream",
     "text": [
      "[[-0.20872373 -1.63033652  0.63855746  0.12613963 -1.22793191]\n",
      " [-1.25844662  1.75393831  0.54504574  0.020129    1.93104849]\n",
      " [ 0.24750073 -0.82511197 -0.52365913 -1.04496228  0.04111204]]\n",
      "[-0.40655654 -0.23383673  0.21998136 -0.29956455  0.24807621]\n"
     ]
    }
   ],
   "source": [
    "import numpy as np\n",
    "\n",
    "a = np.random.randn(3, 5)\n",
    "b = np.random.randn(2, 2, 3)\n",
    "\n",
    "print(a)\n",
    "\n",
    "c = np.mean(a, axis=0)\n",
    "print(c)"
   ],
   "metadata": {
    "collapsed": false
   }
  }
 ],
 "metadata": {
  "kernelspec": {
   "display_name": "Python 3",
   "language": "python",
   "name": "python3"
  },
  "language_info": {
   "codemirror_mode": {
    "name": "ipython",
    "version": 2
   },
   "file_extension": ".py",
   "mimetype": "text/x-python",
   "name": "python",
   "nbconvert_exporter": "python",
   "pygments_lexer": "ipython2",
   "version": "2.7.6"
  }
 },
 "nbformat": 4,
 "nbformat_minor": 0
}
